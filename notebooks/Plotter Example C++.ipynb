{
 "cells": [
  {
   "cell_type": "markdown",
   "metadata": {},
   "source": [
    "<img src=\"https://sites.google.com/a/congresodivulgacion.org/i-congreso-nacional-de-divulgacion-cientifica/_/rsrc/1305953844742/config/fcen.png\" height=\"20%\" width=\"20%\" style=\"float: left;\"/> \n",
    "    <img src=\"http://cmscreate.web.cern.ch/sites/cmscreate.web.cern.ch/files/pictures/CMSlogo_color_label_1024_May2014.png\" height=\"20%\" width=\"20%\"/>"
   ]
  },
  {
   "cell_type": "markdown",
   "metadata": {},
   "source": [
    "### Include\n",
    "Header for the plotter"
   ]
  },
  {
   "cell_type": "code",
   "execution_count": 1,
   "metadata": {},
   "outputs": [],
   "source": [
    "#include<Plotter.h>"
   ]
  },
  {
   "cell_type": "markdown",
   "metadata": {},
   "source": [
    "### Creating a object\n",
    "* first argument is the path to the tree and the name of the tree\n",
    "* second argument is the lists of branches\n",
    "* ￼other arguments are number of bins, xmin and xmax"
   ]
  },
  {
   "cell_type": "code",
   "execution_count": 2,
   "metadata": {},
   "outputs": [],
   "source": [
    "Harry::Plotter p(\"demo/VLFTree\",{\"AnaMuons.Pt()\",\"AnaJets.Pt()\"},100,0,70);"
   ]
  },
  {
   "cell_type": "code",
   "execution_count": 3,
   "metadata": {},
   "outputs": [],
   "source": [
    "p.SetVerbose(true);"
   ]
  },
  {
   "cell_type": "markdown",
   "metadata": {},
   "source": [
    "### Adding files\n",
    "Method to add directory with the ROOT files\n",
    "* first argumet are directory path\n",
    "* second argument are category (Signal, Bkg0, Bkg1, etc..)\n",
    "* third argument are the weights for the trees in the chain."
   ]
  },
  {
   "cell_type": "code",
   "execution_count": 4,
   "metadata": {},
   "outputs": [
    {
     "name": "stdout",
     "output_type": "stream",
     "text": [
      "\n",
      "---------------- HLib  AddDirectory ----------------\n",
      " Path = ../data/Signal\n",
      " Weight = 1\n",
      "\n",
      "---------------- HLib  AddFile ----------------\n",
      " File = ../data/Signal/Tree_10_.root\n",
      " Tree = demo/VLFTree\n",
      " Weight = 1\n",
      " Entries = 2174\n",
      "\n",
      "---------------- HLib  AddFile ----------------\n",
      " File = ../data/Signal/Tree_10.root\n",
      " Tree = demo/VLFTree\n",
      " Weight = 1\n",
      " Entries = 2174\n",
      "\n",
      "---------------- HLib  AddDirectory ----------------\n",
      " Path = ../data/Bkg0\n",
      " Weight = 1\n",
      "\n",
      "---------------- HLib  AddFile ----------------\n",
      " File = ../data/Bkg0/Tree_10_.root\n",
      " Tree = demo/VLFTree\n",
      " Weight = 1\n",
      " Entries = 2174\n",
      "\n",
      "---------------- HLib  AddFile ----------------\n",
      " File = ../data/Bkg0/Tree_10.root\n",
      " Tree = demo/VLFTree\n",
      " Weight = 1\n",
      " Entries = 2174\n",
      "\n",
      "---------------- HLib  AddDirectory ----------------\n",
      " Path = ../data/Bkg1\n",
      " Weight = 1\n",
      "\n",
      "---------------- HLib  AddFile ----------------\n",
      " File = ../data/Bkg1/Tree_10_.root\n",
      " Tree = demo/VLFTree\n",
      " Weight = 1\n",
      " Entries = 2174\n",
      "\n",
      "---------------- HLib  AddFile ----------------\n",
      " File = ../data/Bkg1/Tree_10.root\n",
      " Tree = demo/VLFTree\n",
      " Weight = 1\n",
      " Entries = 2174\n"
     ]
    }
   ],
   "source": [
    "p.AddDirectory(\"../data/Signal\",\"Signal\",1);\n",
    "p.AddDirectory(\"../data/Bkg0\",\"Bkg0\",1);\n",
    "p.AddDirectory(\"../data/Bkg1\",\"Bkg1\",1);"
   ]
  },
  {
   "cell_type": "markdown",
   "metadata": {},
   "source": [
    "### Cuts\n",
    "method to cut values in the chains while histograms are created.  \n",
    "You can apply multiples cuts passing the string\n",
    "\"AnaMuons.Pt()>2&&AnaMuons.Pt()<20\" or using the class\n",
    "TCut https://root.cern.ch/doc/master/classTCut.html  \n",
    "<font size=\"3\" color=\"red\">NOTE:</font> cuts must be applied before to get histograms or htacks."
   ]
  },
  {
   "cell_type": "code",
   "execution_count": null,
   "metadata": {},
   "outputs": [],
   "source": [
    "p.SetCut(\"AnaMuons.Pt()>2\");"
   ]
  },
  {
   "cell_type": "markdown",
   "metadata": {},
   "source": [
    "### Save plots\n",
    "Method to save plots in PDF files.\n",
    "* the argument is the directory to save the plots, by default plots"
   ]
  },
  {
   "cell_type": "code",
   "execution_count": null,
   "metadata": {},
   "outputs": [],
   "source": [
    "p.SavePdfs(\"plots\");"
   ]
  },
  {
   "cell_type": "markdown",
   "metadata": {},
   "source": [
    "### Plots in HStack\n",
    "Method to get a map of histograms in THStack objects, the key of the map is the branch name."
   ]
  },
  {
   "cell_type": "code",
   "execution_count": 5,
   "metadata": {},
   "outputs": [],
   "source": [
    "auto hplots = p.GetPlots();\n",
    "TCanvas c;"
   ]
  },
  {
   "cell_type": "code",
   "execution_count": 6,
   "metadata": {},
   "outputs": [
    {
     "name": "stderr",
     "output_type": "stream",
     "text": [
      "\n",
      "Thread 9 (Thread 0x7fe2a0eef700 (LWP 5363)):\n",
      "#0  0x00007fe2b8c7a057 in __GI___waitpid (pid=5366, stat_loc=stat_loc\n",
      "entry=0x7fe2a0eeb6f8, options=options\n",
      "entry=0) at ../sysdeps/unix/sysv/linux/waitpid.c:29\n",
      "#1  0x00007fe2b8bf897f in do_system (line=<optimized out>) at ../sysdeps/posix/system.c:149\n",
      "#2  0x00007fe2b3425e0c in TUnixSystem::Exec(char const*) () from /home/ozapatam/Projects/root/compile/lib/libCore.so\n",
      "#3  0x00007fe2b3426680 in TUnixSystem::StackTrace() () from /home/ozapatam/Projects/root/compile/lib/libCore.so\n",
      "#4  0x00007fe2ae6a7366 in TCling__PrintStackTrace () from /home/ozapatam/Projects/root/compile/lib/libCling.so\n",
      "#5  0x00007fe2ae79e079 in TClingCallbacks::PrintStackTrace() () from /home/ozapatam/Projects/root/compile/lib/libCling.so\n",
      "#6  0x00007fe2ae7d24b5 in cling::MultiplexInterpreterCallbacks::PrintStackTrace() () from /home/ozapatam/Projects/root/compile/lib/libCling.so\n",
      "#7  0x00007fe2ae7d1b6b in cling_runtime_internal_throwIfInvalidPointer () from /home/ozapatam/Projects/root/compile/lib/libCling.so\n",
      "#8  0x00007fe2b9b3c153 in ?? ()\n",
      "#9  0x00007fe2a0eed9e0 in ?? ()\n",
      "#10 0x00007fe2ae765010 in void std::vector<TCling::MutexStateAndRecurseCount, std::allocator<TCling::MutexStateAndRecurseCount> >::emplace_back<>() () from /home/ozapatam/Projects/root/compile/lib/libCling.so\n",
      "#11 0x00007fe2ae7d46f8 in cling::Interpreter::RunFunction(clang::FunctionDecl const*, cling::Value*) () from /home/ozapatam/Projects/root/compile/lib/libCling.so\n",
      "#12 0x00007fe2ae7d5c9d in cling::Interpreter::EvaluateInternal(std::string const&, cling::CompilationOptions, cling::Value*, cling::Transaction**, unsigned long) () from /home/ozapatam/Projects/root/compile/lib/libCling.so\n",
      "#13 0x00007fe2ae7d5eaa in cling::Interpreter::process(std::string const&, cling::Value*, cling::Transaction**, bool) () from /home/ozapatam/Projects/root/compile/lib/libCling.so\n",
      "#14 0x00007fe2ae8729a8 in cling::MetaProcessor::process(llvm::StringRef, cling::Interpreter::CompilationResult&, cling::Value*, bool) () from /home/ozapatam/Projects/root/compile/lib/libCling.so\n",
      "#15 0x00007fe2ae6af206 in HandleInterpreterException(cling::MetaProcessor*, char const*, cling::Interpreter::CompilationResult&, cling::Value*) () from /home/ozapatam/Projects/root/compile/lib/libCling.so\n",
      "#16 0x00007fe2ae6afdc2 in TCling::ProcessLine(char const*, TInterpreter::EErrorCode*) () from /home/ozapatam/Projects/root/compile/lib/libCling.so\n",
      "#17 0x00007fe2a70ec9de in JupyROOTExecutorImpl(char const*) () from /home/ozapatam/Projects/root/compile/lib/libJupyROOT.so\n",
      "#18 0x00007fe2a70ecabe in JupyROOTExecutor () from /home/ozapatam/Projects/root/compile/lib/libJupyROOT.so\n",
      "#19 0x00007fe2b6e56fce in ffi_call_unix64 () from /usr/lib/x86_64-linux-gnu/libffi.so.6\n",
      "#20 0x00007fe2b6e5693f in ffi_call () from /usr/lib/x86_64-linux-gnu/libffi.so.6\n",
      "#21 0x00007fe2b70b8a74 in _ctypes_callproc () from /usr/lib/python2.7/lib-dynload/_ctypes.x86_64-linux-gnu.so\n",
      "#22 0x00007fe2b70b8475 in ?? () from /usr/lib/python2.7/lib-dynload/_ctypes.x86_64-linux-gnu.so\n",
      "#23 0x000056028381cc10 in PyEval_EvalFrameEx ()\n",
      "#24 0x000056028381525a in PyEval_EvalCodeEx ()\n",
      "#25 0x000056028383113c in ?? ()\n",
      "#26 0x0000560283800a1e in PyObject_Call ()\n",
      "#27 0x0000560283819da7 in PyEval_EvalFrameEx ()\n",
      "#28 0x000056028381c9c2 in PyEval_EvalFrameEx ()\n",
      "#29 0x000056028381c9c2 in PyEval_EvalFrameEx ()\n",
      "#30 0x000056028381525a in PyEval_EvalCodeEx ()\n",
      "#31 0x0000560283830e99 in ?? ()\n",
      "#32 0x000056028384990e in ?? ()\n",
      "#33 0x0000560283800a1e in PyObject_Call ()\n",
      "#34 0x0000560283821080 in PyEval_CallObjectWithKeywords ()\n",
      "#35 0x00005602838b3fe2 in ?? ()\n",
      "#36 0x00007fe2b98e051a in start_thread (arg=0x7fe2a0eef700) at pthread_create.c:465\n",
      "#37 0x00007fe2b8cac3ef in clone () at ../sysdeps/unix/sysv/linux/x86_64/clone.S:95\n",
      "\n",
      "Thread 8 (Thread 0x7fe2a16f0700 (LWP 5330)):\n",
      "#0  0x00007fe2b8ca3da3 in __GI___select (nfds=0, readfds=0x0, writefds=0x0, exceptfds=0x0, timeout=0x7fe2a16ef770) at ../sysdeps/unix/sysv/linux/select.c:41\n",
      "#1  0x00005602838b7cea in ?? ()\n",
      "#2  0x0000560283817c7a in PyEval_EvalFrameEx ()\n",
      "#3  0x000056028381c9c2 in PyEval_EvalFrameEx ()\n",
      "#4  0x000056028381c9c2 in PyEval_EvalFrameEx ()\n",
      "#5  0x000056028381525a in PyEval_EvalCodeEx ()\n",
      "#6  0x0000560283830e99 in ?? ()\n",
      "#7  0x000056028384990e in ?? ()\n",
      "#8  0x0000560283800a1e in PyObject_Call ()\n",
      "#9  0x0000560283821080 in PyEval_CallObjectWithKeywords ()\n",
      "#10 0x00005602838b3fe2 in ?? ()\n",
      "#11 0x00007fe2b98e051a in start_thread (arg=0x7fe2a16f0700) at pthread_create.c:465\n",
      "#12 0x00007fe2b8cac3ef in clone () at ../sysdeps/unix/sysv/linux/x86_64/clone.S:95\n",
      "\n",
      "Thread 7 (Thread 0x7fe2a2198700 (LWP 5275)):\n",
      "#0  0x00007fe2b8cac556 in __GI_epoll_pwait (epfd=58, events=0x7fe2a2197220, maxevents=256, timeout=-1, set=0x0) at ../sysdeps/unix/sysv/linux/epoll_pwait.c:42\n",
      "#1  0x00007fe2a6988626 in zmq::epoll_t::loop (this=0x7fe298003500) at src/epoll.cpp:156\n",
      "#2  0x00007fe2a69b2480 in thread_routine (arg_=0x7fe298003580) at src/thread.cpp:96\n",
      "#3  0x00007fe2b98e051a in start_thread (arg=0x7fe2a2198700) at pthread_create.c:465\n",
      "#4  0x00007fe2b8cac3ef in clone () at ../sysdeps/unix/sysv/linux/x86_64/clone.S:95\n",
      "\n",
      "Thread 6 (Thread 0x7fe2a2999700 (LWP 5274)):\n",
      "#0  0x00007fe2b8cac556 in __GI_epoll_pwait (epfd=55, events=0x7fe2a2998220, maxevents=256, timeout=-1, set=0x0) at ../sysdeps/unix/sysv/linux/epoll_pwait.c:42\n",
      "#1  0x00007fe2a6988626 in zmq::epoll_t::loop (this=0x7fe298003040) at src/epoll.cpp:156\n",
      "#2  0x00007fe2a69b2480 in thread_routine (arg_=0x7fe2980030c0) at src/thread.cpp:96\n",
      "#3  0x00007fe2b98e051a in start_thread (arg=0x7fe2a2999700) at pthread_create.c:465\n",
      "#4  0x00007fe2b8cac3ef in clone () at ../sysdeps/unix/sysv/linux/x86_64/clone.S:95\n",
      "\n",
      "Thread 5 (Thread 0x7fe2a31da700 (LWP 5273)):\n",
      "#0  0x00007fe2b8ca1e6b in __GI___poll (fds=0x7fe2a31d9480, nfds=2, timeout=-1) at ../sysdeps/unix/sysv/linux/poll.c:29\n",
      "#1  0x00007fe2a69b824b in zmq_poll (items_=0x7fe2a31d95a0, nitems_=2, timeout_=-1) at src/zmq.cpp:756\n",
      "#2  0x00007fe2a699a474 in zmq::proxy (frontend_=0x7fe298003fd0, backend_=0x7fe298003fd0, capture_=capture_\n",
      "entry=0x0, control_=control_\n",
      "entry=0x0) at src/proxy.cpp:140\n",
      "#3  0x00007fe2a69b8559 in zmq_proxy (frontend_=<optimized out>, backend_=<optimized out>, capture_=capture_\n",
      "entry=0x0) at src/zmq.cpp:1041\n",
      "#4  0x00007fe2a58dce30 in __pyx_pf_3zmq_7backend_6cython_7_device_2proxy (__pyx_self=<optimized out>, __pyx_v_frontend=0x7fe2a4a0d668, __pyx_v_backend=0x7fe2a4a0d668, __pyx_v_capture=<optimized out>) at zmq/backend/cython/_device.c:1941\n",
      "#5  __pyx_pw_3zmq_7backend_6cython_7_device_3proxy (__pyx_self=<optimized out>, __pyx_args=<optimized out>, __pyx_kwds=<optimized out>) at zmq/backend/cython/_device.c:1830\n",
      "#6  0x00007fe2a58dc5bf in __Pyx_PyObject_Call (kw=0x0, arg=0x7fe2a4a51680, func=0x7fe2a7566d10) at zmq/backend/cython/_device.c:3331\n",
      "#7  __pyx_pf_3zmq_7backend_6cython_7_device_device (__pyx_self=<optimized out>, __pyx_v_device_type=<optimized out>, __pyx_v_backend=<optimized out>, __pyx_v_frontend=<optimized out>) at zmq/backend/cython/_device.c:1518\n",
      "#8  __pyx_pw_3zmq_7backend_6cython_7_device_1device (__pyx_self=<optimized out>, __pyx_args=<optimized out>, __pyx_kwds=<optimized out>) at zmq/backend/cython/_device.c:1432\n",
      "#9  0x000056028381cc10 in PyEval_EvalFrameEx ()\n",
      "#10 0x000056028381c9c2 in PyEval_EvalFrameEx ()\n",
      "#11 0x000056028381c9c2 in PyEval_EvalFrameEx ()\n",
      "#12 0x000056028381525a in PyEval_EvalCodeEx ()\n",
      "#13 0x0000560283830e99 in ?? ()\n",
      "#14 0x000056028384990e in ?? ()\n",
      "#15 0x0000560283800a1e in PyObject_Call ()\n",
      "#16 0x0000560283821080 in PyEval_CallObjectWithKeywords ()\n",
      "#17 0x00005602838b3fe2 in ?? ()\n",
      "#18 0x00007fe2b98e051a in start_thread (arg=0x7fe2a31da700) at pthread_create.c:465\n",
      "#19 0x00007fe2b8cac3ef in clone () at ../sysdeps/unix/sysv/linux/x86_64/clone.S:95\n",
      "\n",
      "Thread 4 (Thread 0x7fe2a39db700 (LWP 5272)):\n",
      "#0  0x00007fe2b8ca1e6b in __GI___poll (fds=0x7fe2a39d9c00, nfds=3, timeout=3600000) at ../sysdeps/unix/sysv/linux/poll.c:29\n",
      "#1  0x00007fe2a69b824b in zmq_poll (items_=items_\n",
      "entry=0x7fe294000ff0, nitems_=nitems_\n",
      "entry=3, timeout_=timeout_\n",
      "entry=3600000) at src/zmq.cpp:756\n",
      "#2  0x00007fe2a5cf6f4a in __pyx_pf_3zmq_7backend_6cython_5_poll_zmq_poll (__pyx_self=<optimized out>, __pyx_v_timeout=<optimized out>, __pyx_v_sockets=<optimized out>) at zmq/backend/cython/_poll.c:2149\n",
      "#3  __pyx_pw_3zmq_7backend_6cython_5_poll_1zmq_poll (__pyx_self=<optimized out>, __pyx_args=<optimized out>, __pyx_kwds=<optimized out>) at zmq/backend/cython/_poll.c:1521\n",
      "#4  0x000056028381cc10 in PyEval_EvalFrameEx ()\n",
      "#5  0x000056028381525a in PyEval_EvalCodeEx ()\n",
      "#6  0x000056028381cd9e in PyEval_EvalFrameEx ()\n",
      "#7  0x000056028381525a in PyEval_EvalCodeEx ()\n",
      "#8  0x000056028381d439 in PyEval_EvalFrameEx ()\n",
      "#9  0x000056028381525a in PyEval_EvalCodeEx ()\n",
      "#10 0x000056028381d439 in PyEval_EvalFrameEx ()\n",
      "#11 0x000056028381525a in PyEval_EvalCodeEx ()\n",
      "#12 0x000056028381d439 in PyEval_EvalFrameEx ()\n",
      "#13 0x000056028381525a in PyEval_EvalCodeEx ()\n",
      "#14 0x000056028383113c in ?? ()\n",
      "#15 0x0000560283800a1e in PyObject_Call ()\n",
      "#16 0x0000560283819da7 in PyEval_EvalFrameEx ()\n",
      "#17 0x000056028381c9c2 in PyEval_EvalFrameEx ()\n",
      "#18 0x000056028381c9c2 in PyEval_EvalFrameEx ()\n",
      "#19 0x000056028381525a in PyEval_EvalCodeEx ()\n",
      "#20 0x0000560283830e99 in ?? ()\n",
      "#21 0x000056028384990e in ?? ()\n",
      "#22 0x0000560283800a1e in PyObject_Call ()\n",
      "#23 0x0000560283821080 in PyEval_CallObjectWithKeywords ()\n",
      "#24 0x00005602838b3fe2 in ?? ()\n",
      "#25 0x00007fe2b98e051a in start_thread (arg=0x7fe2a39db700) at pthread_create.c:465\n",
      "#26 0x00007fe2b8cac3ef in clone () at ../sysdeps/unix/sysv/linux/x86_64/clone.S:95\n",
      "\n",
      "Thread 3 (Thread 0x7fe2a41dc700 (LWP 5271)):\n",
      "#0  0x00007fe2b8cac556 in __GI_epoll_pwait (epfd=14, events=0x7fe2a41db220, maxevents=256, timeout=-1, set=0x0) at ../sysdeps/unix/sysv/linux/epoll_pwait.c:42\n",
      "#1  0x00007fe2a6988626 in zmq::epoll_t::loop (this=0x560286093880) at src/epoll.cpp:156\n",
      "#2  0x00007fe2a69b2480 in thread_routine (arg_=0x560286093900) at src/thread.cpp:96\n",
      "#3  0x00007fe2b98e051a in start_thread (arg=0x7fe2a41dc700) at pthread_create.c:465\n",
      "#4  0x00007fe2b8cac3ef in clone () at ../sysdeps/unix/sysv/linux/x86_64/clone.S:95\n",
      "\n",
      "Thread 2 (Thread 0x7fe2a49dd700 (LWP 5270)):\n",
      "#0  0x00007fe2b8cac556 in __GI_epoll_pwait (epfd=8, events=0x7fe2a49dc220, maxevents=256, timeout=-1, set=0x0) at ../sysdeps/unix/sysv/linux/epoll_pwait.c:42\n",
      "#1  0x00007fe2a6988626 in zmq::epoll_t::loop (this=0x560286169640) at src/epoll.cpp:156\n",
      "#2  0x00007fe2a69b2480 in thread_routine (arg_=0x5602861696c0) at src/thread.cpp:96\n",
      "#3  0x00007fe2b98e051a in start_thread (arg=0x7fe2a49dd700) at pthread_create.c:465\n",
      "#4  0x00007fe2b8cac3ef in clone () at ../sysdeps/unix/sysv/linux/x86_64/clone.S:95\n",
      "\n",
      "Thread 1 (Thread 0x7fe2b9cc6740 (LWP 5249)):\n",
      "#0  0x00007fe2b8ca3da3 in __GI___select (nfds=0, readfds=0x0, writefds=0x0, exceptfds=0x0, timeout=0x7ffc89e7c3c0) at ../sysdeps/unix/sysv/linux/select.c:41\n",
      "#1  0x00005602838b7cea in ?? ()\n",
      "#2  0x0000560283817c7a in PyEval_EvalFrameEx ()\n",
      "#3  0x000056028381525a in PyEval_EvalCodeEx ()\n",
      "#4  0x000056028381cd9e in PyEval_EvalFrameEx ()\n",
      "#5  0x000056028381525a in PyEval_EvalCodeEx ()\n",
      "#6  0x000056028381cd9e in PyEval_EvalFrameEx ()\n",
      "#7  0x000056028381525a in PyEval_EvalCodeEx ()\n",
      "#8  0x000056028381cd9e in PyEval_EvalFrameEx ()\n",
      "#9  0x000056028381525a in PyEval_EvalCodeEx ()\n",
      "#10 0x000056028381d439 in PyEval_EvalFrameEx ()\n",
      "#11 0x000056028381525a in PyEval_EvalCodeEx ()\n",
      "#12 0x000056028381d439 in PyEval_EvalFrameEx ()\n",
      "#13 0x000056028381525a in PyEval_EvalCodeEx ()\n",
      "#14 0x000056028383113c in ?? ()\n",
      "#15 0x0000560283800a1e in PyObject_Call ()\n",
      "#16 0x0000560283819da7 in PyEval_EvalFrameEx ()\n",
      "#17 0x000056028381525a in PyEval_EvalCodeEx ()\n",
      "#18 0x000056028383113c in ?? ()\n",
      "#19 0x0000560283800a1e in PyObject_Call ()\n",
      "#20 0x0000560283819da7 in PyEval_EvalFrameEx ()\n",
      "#21 0x000056028381525a in PyEval_EvalCodeEx ()\n",
      "#22 0x000056028381d439 in PyEval_EvalFrameEx ()\n",
      "#23 0x000056028381525a in PyEval_EvalCodeEx ()\n",
      "#24 0x000056028381d439 in PyEval_EvalFrameEx ()\n",
      "#25 0x000056028381525a in PyEval_EvalCodeEx ()\n",
      "#26 0x000056028383113c in ?? ()\n",
      "#27 0x0000560283800a1e in PyObject_Call ()\n",
      "#28 0x0000560283819da7 in PyEval_EvalFrameEx ()\n",
      "#29 0x000056028381525a in PyEval_EvalCodeEx ()\n",
      "#30 0x000056028381d439 in PyEval_EvalFrameEx ()\n",
      "#31 0x000056028381525a in PyEval_EvalCodeEx ()\n",
      "#32 0x000056028381d439 in PyEval_EvalFrameEx ()\n",
      "#33 0x000056028381525a in PyEval_EvalCodeEx ()\n",
      "#34 0x000056028381d439 in PyEval_EvalFrameEx ()\n",
      "#35 0x000056028381525a in PyEval_EvalCodeEx ()\n",
      "#36 0x000056028381d439 in PyEval_EvalFrameEx ()\n",
      "#37 0x000056028381525a in PyEval_EvalCodeEx ()\n",
      "#38 0x000056028381cd9e in PyEval_EvalFrameEx ()\n",
      "#39 0x000056028381525a in PyEval_EvalCodeEx ()\n",
      "#40 0x000056028381d439 in PyEval_EvalFrameEx ()\n",
      "#41 0x000056028381525a in PyEval_EvalCodeEx ()\n",
      "#42 0x000056028381b614 in PyEval_EvalFrameEx ()\n",
      "#43 0x000056028381525a in PyEval_EvalCodeEx ()\n",
      "#44 0x000056028381cd9e in PyEval_EvalFrameEx ()\n",
      "#45 0x000056028381525a in PyEval_EvalCodeEx ()\n",
      "#46 0x0000560283830e99 in ?? ()\n",
      "#47 0x0000560283800a1e in PyObject_Call ()\n",
      "#48 0x0000560283874870 in ?? ()\n",
      "#49 0x00005602837ee7b6 in Py_Main ()\n",
      "#50 0x00007fe2b8bd7f2a in __libc_start_main (main=0x5602837ee2a0 <main>, argc=5, argv=0x7ffc89e7ebf8, init=<optimized out>, fini=<optimized out>, rtld_fini=<optimized out>, stack_end=0x7ffc89e7ebe8) at ../csu/libc-start.c:310\n",
      "#51 0x00005602837ee1ba in _start ()\n",
      "Error in <HandleInterpreterException>: Trying to dereference null pointer or trying to call routine taking non-null arguments.\n",
      "Execution of your code was aborted.\n",
      "\u001b[1minput_line_75:3:1: \u001b[0m\u001b[0;1;35mwarning: \u001b[0m\u001b[1mnull passed to a callee that requires a non-null argument [-Wnonnull]\u001b[0m\n",
      "hplots[\"AnaMuons.Pt()\"].second->Draw(); //Legend object\n",
      "\u001b[0;1;32m^~~~~~~~~~~~~~~~~~~~~~~~~~~~~~\n",
      "\u001b[0m"
     ]
    }
   ],
   "source": [
    "hplots[\"AnaMuons.Pt()\"].first->Draw(); //HStack object\n",
    "hplots[\"AnaMuons.Pt()\"].second->Draw(); //Legend object\n",
    "c.Draw();"
   ]
  },
  {
   "cell_type": "markdown",
   "metadata": {},
   "source": [
    "### Getting and Manipulating  histograms\n",
    "Method to get the lists of histograms for a given branch.\n",
    "You can get and manipulate histogram."
   ]
  },
  {
   "cell_type": "code",
   "execution_count": null,
   "metadata": {},
   "outputs": [],
   "source": [
    "auto hists=p.GetHists();"
   ]
  },
  {
   "cell_type": "code",
   "execution_count": null,
   "metadata": {},
   "outputs": [],
   "source": [
    "auto h1=hists[\"AnaJets.Pt()\"].first.at(0);\n",
    "h1->Sumw2();\n",
    "h1->Draw();\n",
    "c.Draw();"
   ]
  },
  {
   "cell_type": "markdown",
   "metadata": {},
   "source": [
    "### Save ROOT File\n",
    "Method to save all plot information in a ROOT file\n",
    "* argument is the root file name for the output"
   ]
  },
  {
   "cell_type": "code",
   "execution_count": null,
   "metadata": {},
   "outputs": [],
   "source": [
    "p.SaveFile(\"plotter.root\");"
   ]
  }
 ],
 "metadata": {
  "kernelspec": {
   "display_name": "ROOT C++",
   "language": "c++",
   "name": "root"
  },
  "language_info": {
   "codemirror_mode": "text/x-c++src",
   "file_extension": ".C",
   "mimetype": " text/x-c++src",
   "name": "c++"
  }
 },
 "nbformat": 4,
 "nbformat_minor": 2
}
