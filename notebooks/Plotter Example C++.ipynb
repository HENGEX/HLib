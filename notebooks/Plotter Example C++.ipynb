{
 "cells": [
  {
   "cell_type": "markdown",
   "metadata": {},
   "source": [
    "<img src=\"https://sites.google.com/a/congresodivulgacion.org/i-congreso-nacional-de-divulgacion-cientifica/_/rsrc/1305953844742/config/fcen.png\" height=\"20%\" width=\"20%\" style=\"float: left;\"/> \n",
    "    <img src=\"http://cmscreate.web.cern.ch/sites/cmscreate.web.cern.ch/files/pictures/CMSlogo_color_label_1024_May2014.png\" height=\"20%\" width=\"20%\"/>"
   ]
  },
  {
   "cell_type": "markdown",
   "metadata": {},
   "source": [
    "### Include\n",
    "Header for the plotter"
   ]
  },
  {
   "cell_type": "code",
   "execution_count": 1,
   "metadata": {},
   "outputs": [],
   "source": [
    "#include<Plotter.h>"
   ]
  },
  {
   "cell_type": "markdown",
   "metadata": {},
   "source": [
    "### Creating a object\n",
    "* first argument is the path to the tree and the name of the tree\n",
    "* second argument is the lists of branches\n",
    "* ￼other arguments are number of bins, xmin and xmax"
   ]
  },
  {
   "cell_type": "code",
   "execution_count": 2,
   "metadata": {},
   "outputs": [],
   "source": [
    "Harry::Plotter p(\"demo/VLFTree\",{\"AnaMuons.Pt()\",\"AnaJets.Pt()\"},100,0,70);"
   ]
  },
  {
   "cell_type": "code",
   "execution_count": 3,
   "metadata": {},
   "outputs": [],
   "source": [
    "p.SetVerbose(true);"
   ]
  },
  {
   "cell_type": "markdown",
   "metadata": {},
   "source": [
    "### Adding files\n",
    "Method to add directory with the ROOT files\n",
    "* first argumet are directory path\n",
    "* second argument are category (Signal, Bkg0, Bkg1, etc..)\n",
    "* third argument are the weights for the trees in the chain."
   ]
  },
  {
   "cell_type": "code",
   "execution_count": 4,
   "metadata": {},
   "outputs": [
    {
     "name": "stdout",
     "output_type": "stream",
     "text": [
      "\n",
      "---------------- HLib  AddDirectory ----------------\n",
      " Path = ../data/Signal\n",
      " Weight = 0.5\n",
      "\n",
      "---------------- HLib  AddFile ----------------\n",
      " File = ../data/Signal/Tree_10_.root\n",
      " Tree = demo/VLFTree\n",
      " Weight = 0.5\n",
      " Entries = 2174\n",
      "\n",
      "---------------- HLib  AddFile ----------------\n",
      " File = ../data/Signal/Tree_10.root\n",
      " Tree = demo/VLFTree\n",
      " Weight = 0.5\n",
      " Entries = 2174\n",
      "\n",
      "---------------- HLib  AddDirectory ----------------\n",
      " Path = ../data/Bkg0\n",
      " Weight = 1\n",
      "\n",
      "---------------- HLib  AddFile ----------------\n",
      " File = ../data/Bkg0/Tree_10_.root\n",
      " Tree = demo/VLFTree\n",
      " Weight = 1\n",
      " Entries = 2174\n",
      "\n",
      "---------------- HLib  AddFile ----------------\n",
      " File = ../data/Bkg0/Tree_10.root\n",
      " Tree = demo/VLFTree\n",
      " Weight = 1\n",
      " Entries = 2174\n",
      "\n",
      "---------------- HLib  AddDirectory ----------------\n",
      " Path = ../data/Bkg1\n",
      " Weight = 0.5\n",
      "\n",
      "---------------- HLib  AddFile ----------------\n",
      " File = ../data/Bkg1/Tree_10_.root\n",
      " Tree = demo/VLFTree\n",
      " Weight = 0.5\n",
      " Entries = 2174\n",
      "\n",
      "---------------- HLib  AddFile ----------------\n",
      " File = ../data/Bkg1/Tree_10.root\n",
      " Tree = demo/VLFTree\n",
      " Weight = 0.5\n",
      " Entries = 2174\n"
     ]
    }
   ],
   "source": [
    "p.AddDirectory(\"../data/Signal\",\"Signal\",0.5);\n",
    "p.AddDirectory(\"../data/Bkg0\",\"Bkg0\",1);\n",
    "p.AddDirectory(\"../data/Bkg1\",\"Bkg0\",0.5);"
   ]
  },
  {
   "cell_type": "markdown",
   "metadata": {},
   "source": [
    "### Cuts\n",
    "method to cut values in the chains while histograms are created.  \n",
    "You can apply multiples cuts passing the string\n",
    "\"AnaMuons.Pt()>2&&AnaMuons.Pt()<20\" or using the class\n",
    "TCut https://root.cern.ch/doc/master/classTCut.html  \n",
    "<font size=\"3\" color=\"red\">NOTE:</font> cuts must be applied before to get histograms or htacks."
   ]
  },
  {
   "cell_type": "code",
   "execution_count": 5,
   "metadata": {},
   "outputs": [],
   "source": [
    "//p.SetCut(\"AnaMuons.Pt()>2\");"
   ]
  },
  {
   "cell_type": "code",
   "execution_count": 6,
   "metadata": {},
   "outputs": [
    {
     "name": "stdout",
     "output_type": "stream",
     "text": [
      "BNAME = Bkg0AnaMuons.Pt()\n",
      "branch = AnaMuons.Pt()\n",
      "BNAME = Bkg0AnaMuons.Pt()\n",
      "branch = AnaMuons.Pt()\n",
      "BNAME = Bkg0AnaMuons.Pt()\n",
      "branch = AnaMuons.Pt()\n",
      "BNAME = Bkg0AnaMuons.Pt()\n",
      "branch = AnaMuons.Pt()\n",
      "BNAME = SignalAnaMuons.Pt()\n",
      "branch = AnaMuons.Pt()\n"
     ]
    },
    {
     "name": "stderr",
     "output_type": "stream",
     "text": [
      "Info in <TCanvas::MakeDefCanvas>:  created default TCanvas with name c1\n"
     ]
    },
    {
     "name": "stdout",
     "output_type": "stream",
     "text": [
      "BNAME = SignalAnaMuons.Pt()\n",
      "branch = AnaMuons.Pt()\n"
     ]
    }
   ],
   "source": [
    "auto hists=p.GetHists(\"AnaMuons.Pt()\");\n",
    "TCanvas c;"
   ]
  },
  {
   "cell_type": "code",
   "execution_count": 7,
   "metadata": {},
   "outputs": [],
   "source": [
    "auto cas = hists[\"Signal\"];\n",
    "auto bkg0=hists[\"Bkg0\"];\n",
    "//c.Draw();"
   ]
  },
  {
   "cell_type": "code",
   "execution_count": 10,
   "metadata": {},
   "outputs": [],
   "source": [
    "cas[\"AnaMuons.Pt()\"]->Draw(\"hist\");\n",
    "cas[\"AnaMuons.Pt()\"]->Draw(\"hist\");\n"
   ]
  },
  {
   "cell_type": "code",
   "execution_count": 9,
   "metadata": {},
   "outputs": [
    {
     "data": {
      "image/png": "[encoded data removed]",
      "text/plain": [
       "<IPython.core.display.Image object>"
      ]
     },
     "metadata": {},
     "output_type": "display_data"
    }
   ],
   "source": [
    "c1->Draw()"
   ]
  },
  {
   "cell_type": "code",
   "execution_count": null,
   "metadata": {},
   "outputs": [],
   "source": []
  },
  {
   "cell_type": "markdown",
   "metadata": {},
   "source": [
    "### Save plots\n",
    "Method to save plots in PDF files.\n",
    "* the argument is the directory to save the plots, by default plots"
   ]
  },
  {
   "cell_type": "code",
   "execution_count": null,
   "metadata": {},
   "outputs": [],
   "source": [
    "p.SavePdfs(\"plots\");"
   ]
  },
  {
   "cell_type": "markdown",
   "metadata": {},
   "source": [
    "### Plots in HStack\n",
    "Method to get a map of histograms in THStack objects, the key of the map is the branch name."
   ]
  },
  {
   "cell_type": "code",
   "execution_count": null,
   "metadata": {},
   "outputs": [],
   "source": [
    "auto hplots = p.GetPlots();\n",
    "TCanvas c;\n",
    "h1=hplots[\"AnaMuons.Pt()\"].first;\n",
    "auto hists=p.GetHists();\n",
    "h=hists[\"AnaMuons.Pt()\"].first[0];"
   ]
  },
  {
   "cell_type": "code",
   "execution_count": null,
   "metadata": {},
   "outputs": [],
   "source": [
    "h->GetEntries()"
   ]
  },
  {
   "cell_type": "code",
   "execution_count": null,
   "metadata": {},
   "outputs": [],
   "source": [
    "hplots[\"AnaMuons.Pt()\"].first->Draw(); //HStack object\n",
    "hplots[\"AnaMuons.Pt()\"].second->Draw(); //Legend object\n",
    "c.Draw();"
   ]
  },
  {
   "cell_type": "markdown",
   "metadata": {},
   "source": [
    "### Getting and Manipulating  histograms\n",
    "Method to get the lists of histograms for a given branch.\n",
    "You can get and manipulate histogram."
   ]
  },
  {
   "cell_type": "code",
   "execution_count": null,
   "metadata": {},
   "outputs": [],
   "source": [
    "auto hists=p.GetHists();"
   ]
  },
  {
   "cell_type": "code",
   "execution_count": null,
   "metadata": {},
   "outputs": [],
   "source": [
    "auto h1=hists[\"AnaJets.Pt()\"].first.at(0);\n",
    "h1->Sumw2();\n",
    "h1->Draw();\n",
    "c.Draw();"
   ]
  },
  {
   "cell_type": "markdown",
   "metadata": {},
   "source": [
    "### Save ROOT File\n",
    "Method to save all plot information in a ROOT file\n",
    "* argument is the root file name for the output"
   ]
  },
  {
   "cell_type": "code",
   "execution_count": null,
   "metadata": {},
   "outputs": [],
   "source": [
    "p.SaveFile(\"plotter.root\");"
   ]
  },
  {
   "cell_type": "code",
   "execution_count": null,
   "metadata": {},
   "outputs": [],
   "source": []
  }
 ],
 "metadata": {
  "kernelspec": {
   "display_name": "ROOT C++",
   "language": "c++",
   "name": "root"
  },
  "language_info": {
   "codemirror_mode": "text/x-c++src",
   "file_extension": ".C",
   "mimetype": " text/x-c++src",
   "name": "c++"
  }
 },
 "nbformat": 4,
 "nbformat_minor": 2
}
