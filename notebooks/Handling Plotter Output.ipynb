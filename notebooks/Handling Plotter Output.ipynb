{
 "cells": [
  {
   "cell_type": "markdown",
   "metadata": {},
   "source": [
    "<img src=\"https://sites.google.com/a/congresodivulgacion.org/i-congreso-nacional-de-divulgacion-cientifica/_/rsrc/1305953844742/config/fcen.png\" height=\"20%\" width=\"20%\" style=\"float: left;\"/> \n",
    "    <img src=\"http://cmscreate.web.cern.ch/sites/cmscreate.web.cern.ch/files/pictures/CMSlogo_color_label_1024_May2014.png\" height=\"20%\" width=\"20%\"/>"
   ]
  },
  {
   "cell_type": "markdown",
   "metadata": {},
   "source": [
    "### Include\n",
    "Header for the plotter"
   ]
  },
  {
   "cell_type": "code",
   "execution_count": 1,
   "metadata": {},
   "outputs": [],
   "source": [
    "#include<Plotter.h>"
   ]
  },
  {
   "cell_type": "markdown",
   "metadata": {},
   "source": [
    "### Opening plotter output"
   ]
  },
  {
   "cell_type": "code",
   "execution_count": 2,
   "metadata": {},
   "outputs": [],
   "source": [
    "auto file=TFile::Open(\"plotter.root\");"
   ]
  },
  {
   "cell_type": "code",
   "execution_count": 3,
   "metadata": {},
   "outputs": [
    {
     "name": "stdout",
     "output_type": "stream",
     "text": [
      "TFile**\t\tplotter.root\t\n",
      " TFile*\t\tplotter.root\t\n",
      "  KEY: TDirectoryFile\tAnaJets.Pt();1\tAnaJets.Pt()\n",
      "  KEY: TDirectoryFile\tAnaMuons.Pt();1\tAnaMuons.Pt()\n"
     ]
    }
   ],
   "source": [
    "file->ls();"
   ]
  },
  {
   "cell_type": "code",
   "execution_count": 4,
   "metadata": {},
   "outputs": [],
   "source": [
    "auto dir=(TDirectoryFile*)file->Get(\"AnaMuons.Pt();1\");"
   ]
  },
  {
   "cell_type": "code",
   "execution_count": 5,
   "metadata": {},
   "outputs": [
    {
     "name": "stdout",
     "output_type": "stream",
     "text": [
      "TDirectoryFile*\t\tAnaMuons.Pt()\tAnaMuons.Pt()\n",
      " KEY: TH1F\tBkg0AnaMuons.Pt;1\tBkg0AnaMuons.Pt()\n",
      " KEY: TH1F\tBkg1AnaMuons.Pt;1\tBkg1AnaMuons.Pt()\n",
      " KEY: TH1F\tSignalAnaMuons.Pt;1\tSignalAnaMuons.Pt()\n",
      " KEY: THStack\tPlotterStackAnaMuons.Pt();1\tPlotter Stack Branch=AnaMuons.Pt() Aliases=( Bkg0 Bkg1 Signal )\n",
      " KEY: TLegend\tTPave;1\tLegend of markers/lines/boxes to represent obj's\n"
     ]
    }
   ],
   "source": [
    "dir->ls();"
   ]
  },
  {
   "cell_type": "code",
   "execution_count": 6,
   "metadata": {},
   "outputs": [],
   "source": [
    "auto hstack  = (THStack*)dir->Get(\"PlotterStackAnaMuons.Pt();1\");\n",
    "auto legend = (TLegend*)dir->Get(\"TPave;1\");"
   ]
  },
  {
   "cell_type": "code",
   "execution_count": 7,
   "metadata": {},
   "outputs": [
    {
     "data": {
      "image/png": "[encoded data removed]",
      "text/plain": [
       "<IPython.core.display.Image object>"
      ]
     },
     "metadata": {},
     "output_type": "display_data"
    }
   ],
   "source": [
    "TCanvas c;\n",
    "hstack->Draw();\n",
    "legend->Draw();\n",
    "c.Draw();"
   ]
  }
 ],
 "metadata": {
  "kernelspec": {
   "display_name": "ROOT C++",
   "language": "c++",
   "name": "root"
  },
  "language_info": {
   "codemirror_mode": "text/x-c++src",
   "file_extension": ".C",
   "mimetype": " text/x-c++src",
   "name": "c++"
  }
 },
 "nbformat": 4,
 "nbformat_minor": 2
}
