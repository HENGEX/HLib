{
 "cells": [
  {
   "cell_type": "markdown",
   "metadata": {},
   "source": [
    "<img src=\"https://sites.google.com/a/congresodivulgacion.org/i-congreso-nacional-de-divulgacion-cientifica/_/rsrc/1305953844742/config/fcen.png\" height=\"20%\" width=\"20%\" style=\"float: left;\"/> \n",
    "    <img src=\"http://cmscreate.web.cern.ch/sites/cmscreate.web.cern.ch/files/pictures/CMSlogo_color_label_1024_May2014.png\" height=\"20%\" width=\"20%\"/>"
   ]
  },
  {
   "cell_type": "markdown",
   "metadata": {},
   "source": [
    "### Include\n",
    "Header for the plotter"
   ]
  },
  {
   "cell_type": "code",
   "execution_count": 1,
   "metadata": {},
   "outputs": [
    {
     "name": "stdout",
     "output_type": "stream",
     "text": [
      "Welcome to JupyROOT 6.13/01\n"
     ]
    }
   ],
   "source": [
    "from Harry import Plotter\n",
    "from ROOT import TCanvas"
   ]
  },
  {
   "cell_type": "markdown",
   "metadata": {},
   "source": [
    "### Creating a object\n",
    "* first argument is the path to the tree and the name of the tree\n",
    "* second argument is the lists of branches\n",
    "* ￼other arguments are number of bins, xmin and xmax"
   ]
  },
  {
   "cell_type": "code",
   "execution_count": 2,
   "metadata": {},
   "outputs": [],
   "source": [
    "p=Plotter(\"demo/VLFTree\",[\"AnaMuons.Pt()\",\"AnaJets.Pt()\"],100,0,70)"
   ]
  },
  {
   "cell_type": "markdown",
   "metadata": {},
   "source": [
    "### Adding files\n",
    "Method to add directory with the ROOT files\n",
    "* first argumet are directory path\n",
    "* second argument are category (Signal, Bkg0, Bkg1, etc..)\n",
    "* third argument are the weights for the trees in the chain."
   ]
  },
  {
   "cell_type": "code",
   "execution_count": 3,
   "metadata": {},
   "outputs": [],
   "source": [
    "p.AddDirectory(\"../data/Signal\",\"Signal\",1)\n",
    "p.AddDirectory(\"../data/Bkg0\",\"Bkg0\",1)\n",
    "p.AddDirectory(\"../data/Bkg1\",\"Bkg1\",1)"
   ]
  },
  {
   "cell_type": "markdown",
   "metadata": {},
   "source": [
    "### Cuts\n",
    "method to cut values in the chains while histograms are created.  \n",
    "You can apply multiples cuts passing the string\n",
    "\"AnaMuons.Pt()>2&&AnaMuons.Pt()<20\" or using the class\n",
    "TCut https://root.cern.ch/doc/master/classTCut.html  \n",
    "<font size=\"3\" color=\"red\">NOTE:</font> cuts must be applied before to get histograms or htacks."
   ]
  },
  {
   "cell_type": "code",
   "execution_count": 4,
   "metadata": {},
   "outputs": [],
   "source": [
    "p.SetCut(\"AnaMuons.Pt()>2\")"
   ]
  },
  {
   "cell_type": "markdown",
   "metadata": {},
   "source": [
    "### Save plots\n",
    "Method to save plots in PDF files.\n",
    "* the argument is the directory to save the plots, by default plots"
   ]
  },
  {
   "cell_type": "code",
   "execution_count": 5,
   "metadata": {},
   "outputs": [
    {
     "name": "stderr",
     "output_type": "stream",
     "text": [
      "Info in <TCanvas::Print>: pdf file plots/AnaMuons.Pt.pdf has been created\n",
      "Info in <TCanvas::Print>: pdf file plots/AnaJets.Pt.pdf has been created\n"
     ]
    }
   ],
   "source": [
    "p.SavePdfs(\"plots\");"
   ]
  },
  {
   "cell_type": "markdown",
   "metadata": {},
   "source": [
    "### Plots in HStack\n",
    "Method to get a map of histograms in THStack objects, the key of the map is the branch name."
   ]
  },
  {
   "cell_type": "code",
   "execution_count": 6,
   "metadata": {},
   "outputs": [],
   "source": [
    "hplots = p.GetPlots()\n",
    "c=TCanvas()"
   ]
  },
  {
   "cell_type": "code",
   "execution_count": 7,
   "metadata": {},
   "outputs": [
    {
     "data": {
      "image/png": "[encoded data removed]",
      "text/plain": [
       "<IPython.core.display.Image object>"
      ]
     },
     "metadata": {},
     "output_type": "display_data"
    }
   ],
   "source": [
    "hplots[\"AnaMuons.Pt()\"][0].Draw() #HStack object\n",
    "hplots[\"AnaMuons.Pt()\"][1].Draw() #Legend object\n",
    "c.Draw();"
   ]
  },
  {
   "cell_type": "markdown",
   "metadata": {},
   "source": [
    "### Getting and Manipulating  histograms\n",
    "Method to get the lists of histograms for a given branch.\n",
    "You can get and manipulate histogram."
   ]
  },
  {
   "cell_type": "code",
   "execution_count": 8,
   "metadata": {},
   "outputs": [],
   "source": [
    "hists=p.GetHists()"
   ]
  },
  {
   "cell_type": "code",
   "execution_count": 9,
   "metadata": {},
   "outputs": [
    {
     "data": {
      "image/png": "[encoded data removed]",
      "text/plain": [
       "<IPython.core.display.Image object>"
      ]
     },
     "metadata": {},
     "output_type": "display_data"
    }
   ],
   "source": [
    "h1=hists[\"AnaJets.Pt()\"][0].at(0)\n",
    "h1.Sumw2()\n",
    "h1.Draw()\n",
    "c.Draw()"
   ]
  },
  {
   "cell_type": "markdown",
   "metadata": {},
   "source": [
    "### Save ROOT File\n",
    "Method to save all plot information in a ROOT file\n",
    "* argument is the root file name for the output"
   ]
  },
  {
   "cell_type": "code",
   "execution_count": 10,
   "metadata": {},
   "outputs": [],
   "source": [
    "p.SaveFile(\"plotter.root\")"
   ]
  }
 ],
 "metadata": {
  "kernelspec": {
   "display_name": "Python 2",
   "language": "python",
   "name": "python2"
  },
  "language_info": {
   "codemirror_mode": {
    "name": "ipython",
    "version": 2
   },
   "file_extension": ".py",
   "mimetype": "text/x-python",
   "name": "python",
   "nbconvert_exporter": "python",
   "pygments_lexer": "ipython2",
   "version": "2.7.14+"
  }
 },
 "nbformat": 4,
 "nbformat_minor": 2
}
